{
  "nbformat": 4,
  "nbformat_minor": 0,
  "metadata": {
    "colab": {
      "name": "LinearRegression.ipynb",
      "provenance": [],
      "collapsed_sections": [],
      "authorship_tag": "ABX9TyOMZnGNIipglSedj1fp6z5s"
    },
    "kernelspec": {
      "name": "python3",
      "display_name": "Python 3"
    },
    "language_info": {
      "name": "python"
    }
  },
  "cells": [
    {
      "cell_type": "code",
      "metadata": {
        "colab": {
          "base_uri": "https://localhost:8080/"
        },
        "id": "gFvhB-_OcEEs",
        "outputId": "5a31991b-a6c9-4a82-f733-ca9a729f5996"
      },
      "source": [
        "# Predict home prices.\n",
        "# y= mx+ b (m--> slope, b--> intercept).\n",
        "# price(dependent variable) = m*area(independent varible) + b.\n",
        "\n",
        "import pandas as pd\n",
        "import numpy as np\n",
        "import math\n",
        "import matplotlib.pyplot as plt\n",
        "# import linear model.\n",
        "from sklearn import linear_model\n",
        "%matplotlib inline\n",
        "df = pd.read_csv('https://raw.githubusercontent.com/codebasics/py/master/DataScience/BangloreHomePrices/model/bengaluru_house_prices.csv')\n",
        "df = pd.DataFrame(\n",
        "   { 'area':[2000, 3000, 3200, 3600, 4000 ],\n",
        "    'bedrooms':[3.0, 4.0, 0, 3.0, 5.0],\n",
        "    'age':[20, 15, 18, 30, 8],\n",
        "    'price':[55000, 56500, 610000, 595000, 760000 ]}\n",
        ")\n",
        "df = df.head()\n",
        "# print(df.head())\n",
        "# df.columns\n",
        "# plt.scatter(df.price, df.total_sqft)\n",
        "# Creating  object.\n",
        "reg = linear_model.LinearRegression()\n",
        "# Train the data set using linear reggression using fit function.\n",
        "reg.fit(df[['area']], df.price)\n",
        "# Predict value.\n",
        "print(reg.predict([[3300]]))\n",
        "# reg.intercept_\n",
        "print(df)\n",
        "# Print columns.\n",
        "df.columns\n",
        "median_bedrooms = math.floor(df.bedrooms.median())\n",
        "median_bedrooms\n",
        "# Cleaning Data.\n",
        "df.bedrooms = df.bedrooms.fillna(median_bedrooms)\n",
        "# Creating linear regression class object.\n",
        "reg = linear_model.LinearRegression()\n",
        "# Training data using multiple variables.\n",
        "print(\"Predict data using multiple variables.\")\n",
        "reg.fit(df[['area', 'bedrooms', 'age']], df.price)\n",
        "# Coef of the regression.\n",
        "reg.coef_\n",
        "reg.intercept_\n",
        "print(\"\\n\")\n",
        "reg.predict([[3000, 3, 40]])\n",
        "reg.predict([[2500, 4,5]])\n"
      ],
      "execution_count": null,
      "outputs": [
        {
          "output_type": "stream",
          "name": "stdout",
          "text": [
            "[467785.21126761]\n",
            "   area  bedrooms  age   price\n",
            "0  2000       3.0   20   55000\n",
            "1  3000       4.0   15   56500\n",
            "2  3200       0.0   18  610000\n",
            "3  3600       3.0   30  595000\n",
            "4  4000       5.0    8  760000\n",
            "Predict data using multiple variables.\n",
            "\n",
            "\n"
          ]
        },
        {
          "output_type": "stream",
          "name": "stderr",
          "text": [
            "/usr/local/lib/python3.7/dist-packages/sklearn/base.py:446: UserWarning: X does not have valid feature names, but LinearRegression was fitted with feature names\n",
            "  \"X does not have valid feature names, but\"\n",
            "/usr/local/lib/python3.7/dist-packages/sklearn/base.py:446: UserWarning: X does not have valid feature names, but LinearRegression was fitted with feature names\n",
            "  \"X does not have valid feature names, but\"\n",
            "/usr/local/lib/python3.7/dist-packages/sklearn/base.py:446: UserWarning: X does not have valid feature names, but LinearRegression was fitted with feature names\n",
            "  \"X does not have valid feature names, but\"\n"
          ]
        },
        {
          "output_type": "execute_result",
          "data": {
            "text/plain": [
              "array([99423.23177097])"
            ]
          },
          "metadata": {},
          "execution_count": 1
        }
      ]
    }
  ]
}