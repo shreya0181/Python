{
  "nbformat": 4,
  "nbformat_minor": 0,
  "metadata": {
    "colab": {
      "name": "BasicsOfPython.ipynb",
      "provenance": []
    },
    "kernelspec": {
      "name": "python3",
      "display_name": "Python 3"
    },
    "language_info": {
      "name": "python"
    }
  },
  "cells": [
    {
      "cell_type": "markdown",
      "metadata": {
        "id": "GJfrEEGGYRvU"
      },
      "source": [
        "List"
      ]
    },
    {
      "cell_type": "code",
      "metadata": {
        "id": "xD-QdwyJYbe9",
        "colab": {
          "base_uri": "https://localhost:8080/"
        },
        "outputId": "ff047a1f-12e1-4bbd-e7fa-4832e4bfb0d5"
      },
      "source": [
        "#Declaring List.\n",
        "items= [\"Item1\", \"item2\", \"item3\", \"item4\"]\n",
        "print(items)\n",
        "#Print item at first index.\n",
        "print(items[0])\n",
        "#Reintialising the item.\n",
        "items[0]=\"Butter\"\n",
        "items[0]\n",
        "#Printing a range of items.\n",
        "print(items[0:2])\n",
        "#Using a negative index.\n",
        "print(items[-1])\n",
        "#Appending a new item to the list.\n",
        "items.append(\"item5\")\n",
        "print(items)\n",
        "#Insert at a particular location.\n",
        "items.insert(1, \"insert at two\")\n",
        "print(items)\n",
        "#Concat two Lists.\n",
        "items2= [\"Item1\", \"item2\", \"item3\", \"item4\"]\n",
        "items3= items+items2\n",
        "print(items3)\n",
        "#Length of a list\n",
        "print(len(items3))\n",
        "#Using \"in\" keyword to verify an item in list.\n",
        "print(\"butter\" in items3)\n",
        "\n",
        "\n",
        "\n"
      ],
      "execution_count": null,
      "outputs": [
        {
          "output_type": "stream",
          "name": "stdout",
          "text": [
            "['Item1', 'item2', 'item3', 'item4']\n",
            "Item1\n",
            "['Butter', 'item2']\n",
            "item4\n",
            "['Butter', 'item2', 'item3', 'item4', 'item5']\n",
            "['Butter', 'insert at two', 'item2', 'item3', 'item4', 'item5']\n",
            "['Butter', 'insert at two', 'item2', 'item3', 'item4', 'item5', 'Item1', 'item2', 'item3', 'item4']\n",
            "10\n",
            "False\n"
          ]
        }
      ]
    },
    {
      "cell_type": "markdown",
      "metadata": {
        "id": "hLBwgknfeskE"
      },
      "source": [
        "Using if else"
      ]
    },
    {
      "cell_type": "code",
      "metadata": {
        "colab": {
          "base_uri": "https://localhost:8080/"
        },
        "id": "vL64Dg2DiB-h",
        "outputId": "17659366-de33-4238-894d-0df24ec17a05"
      },
      "source": [
        "indian = [\"samosa\", \"daal\", \"naan\"]\n",
        "chinese  = [\"egg roll\", \"pot stciker\", \"fired rice\"]\n",
        "italian = [\"pizza\", \"pasta\", \"risotto\"]\n",
        "\n",
        "dish = input(\"enter a dish name:\")\n",
        "if dish in indian:\n",
        "  print(\"It is an indian dish.\")\n",
        "elif dish in chinese:\n",
        "  print(\"It is a chinese dish.\")\n",
        "else:\n",
        "  print(\"it is an Italian dish.\")"
      ],
      "execution_count": null,
      "outputs": [
        {
          "output_type": "stream",
          "name": "stdout",
          "text": [
            "enter a dish name:pasta\n",
            "it is an Italian dish.\n"
          ]
        }
      ]
    },
    {
      "cell_type": "code",
      "metadata": {
        "colab": {
          "base_uri": "https://localhost:8080/"
        },
        "id": "okjP21scezaK",
        "outputId": "daf2d14d-4cd7-4c69-c3ba-5a4557d375d7"
      },
      "source": [
        "num= input(\"Enter a number: \")\n",
        "num = int(num)\n",
        "if (num%2)==0:\n",
        "   print(\"number is even.\")\n",
        "else:\n",
        "  print(\"number is odd.\")\n"
      ],
      "execution_count": null,
      "outputs": [
        {
          "output_type": "stream",
          "name": "stdout",
          "text": [
            "Enter a number: 5\n",
            "number is odd\n"
          ]
        }
      ]
    },
    {
      "cell_type": "markdown",
      "metadata": {
        "id": "ShpEKjrctWAT"
      },
      "source": [
        "Implementing  for loop\n"
      ]
    },
    {
      "cell_type": "code",
      "metadata": {
        "colab": {
          "base_uri": "https://localhost:8080/"
        },
        "id": "hHRGmvHTtbf0",
        "outputId": "ca46ea9c-f96e-4aab-d3f9-717cbdf34e20"
      },
      "source": [
        "exp = [2340, 2500, 2100, 3100, 2980]\n",
        "total = 0;\n",
        "for item in exp:\n",
        "    total = total + item\n",
        "print(total)\n",
        "\n",
        "#Printing 1 to 10 using Range.\n",
        "print(\"\\n\")\n",
        "print(\"Printing 1 to 10 using Range.\")\n",
        "for i in range(1, 11):\n",
        "  print(i)\n",
        "\n",
        "#Working with items  in a range of List.\n",
        "print(\"\\n\")\n",
        "print(\"Working with items  in a range of a List.\")\n",
        "total = 0\n",
        "for i in range(len(exp)):\n",
        "    print(\"Month: \",(i+1), 'Expense: ', exp[i])\n",
        "    total = total + exp[i]\n",
        "print(\"Total Expense is: \", total)\n",
        "\n",
        "  \n",
        "# Searching Key element using for loop in a list.\n",
        "print(\"\\n\")\n",
        "print(\"Searching a key element using a for loop.\")\n",
        "key_location = \"chair\"\n",
        "locations = [\"garage\", \"living room\", \"chair\", \"closet\"]\n",
        "\n",
        "for i in locations:\n",
        "  if i == key_location:\n",
        "    print(\"key is found in\", i+ \".\")\n",
        "    break\n",
        "  else:\n",
        "    print(\"key is not found in\", i +  \".\")\n",
        "\n",
        "\n",
        "#Print squares except even numbers.\n",
        "print(\"\\n\")\n",
        "print(\"Square in the given range except even numbers.\")\n",
        "for i in range(1, 6):\n",
        "  if i%2==0:\n",
        "    continue \n",
        "  else:\n",
        "    print(i*i)\n",
        "\n",
        "#Using While Life.\n",
        "print(\"\\n\")\n",
        "print(\"Printing numbers 1 to 5 using a while loop.\")\n",
        "i = 1\n",
        "while i<=5:\n",
        "  print(i)\n",
        "  i = i+1\n",
        "\n",
        "\n",
        "\n",
        "  \n"
      ],
      "execution_count": null,
      "outputs": [
        {
          "output_type": "stream",
          "name": "stdout",
          "text": [
            "13020\n",
            "\n",
            "\n",
            "Printing 1 to 10 using Range.\n",
            "1\n",
            "2\n",
            "3\n",
            "4\n",
            "5\n",
            "6\n",
            "7\n",
            "8\n",
            "9\n",
            "10\n",
            "\n",
            "\n",
            "Working with items  in a range of a List.\n",
            "Month:  1 Expense:  2340\n",
            "Month:  2 Expense:  2500\n",
            "Month:  3 Expense:  2100\n",
            "Month:  4 Expense:  3100\n",
            "Month:  5 Expense:  2980\n",
            "Total Expense is:  13020\n",
            "\n",
            "\n",
            "Searching a key element using a for loop.\n",
            "key is not found in garage.\n",
            "key is not found in living room.\n",
            "key is found in chair.\n",
            "\n",
            "\n",
            "Square in the given range except even numbers.\n",
            "1\n",
            "9\n",
            "25\n",
            "\n",
            "\n",
            "Printing numbers 1 to 5 using a while loop.\n",
            "1\n",
            "2\n",
            "3\n",
            "4\n",
            "5\n"
          ]
        }
      ]
    },
    {
      "cell_type": "markdown",
      "metadata": {
        "id": "3xq9b-_hlw-X"
      },
      "source": [
        ""
      ]
    },
    {
      "cell_type": "markdown",
      "metadata": {
        "id": "unsoxeu2Pb0k"
      },
      "source": [
        "Using Functions\n"
      ]
    },
    {
      "cell_type": "code",
      "metadata": {
        "colab": {
          "base_uri": "https://localhost:8080/"
        },
        "id": "f0nFAlTfQRaC",
        "outputId": "b741aa68-7251-45fb-f134-1cf158a80c60"
      },
      "source": [
        "print(\"Function to calculate the sum total of items of a list.\")\n",
        "def calculate_total(exp):\n",
        "  total = 0 \n",
        "  for item in exp:\n",
        "    total =  total+ item\n",
        "  return total\n",
        "\n",
        "tom_exp = [2100, 3400, 3500]\n",
        "joe_exp = [200, 500, 700]\n",
        "\n",
        "tom_total = calculate_total(tom_exp)\n",
        "joe_total = calculate_total(joe_exp)\n",
        "\n",
        "print(\"Tom's total expenses: \", tom_total)\n",
        "print(\"Joe's total expenses: \", joe_total)\n",
        "\n",
        "\n",
        "#Function to print sum of two variables.\n",
        "print(\"Function to print sum of two variables.\")\n",
        "def sum(a,b):\n",
        "  total = a+b\n",
        "  return total\n",
        "\n",
        "n = sum(5,6)\n",
        "print(\"Total: \", n)\n",
        "\n"
      ],
      "execution_count": null,
      "outputs": [
        {
          "output_type": "stream",
          "name": "stdout",
          "text": [
            "Function to calculate the sum total of items of a list.\n",
            "Tom's total expenses:  9000\n",
            "Joe's total expenses:  1400\n",
            "Function to print sum of two variables.\n",
            "Total:  11\n"
          ]
        }
      ]
    },
    {
      "cell_type": "markdown",
      "metadata": {
        "id": "Z5ni1zkPl1NI"
      },
      "source": [
        "Dictionaries and Tuple"
      ]
    },
    {
      "cell_type": "code",
      "metadata": {
        "colab": {
          "base_uri": "https://localhost:8080/"
        },
        "id": "mB3YLYsIl6NW",
        "outputId": "b65dc4fb-d891-4a25-8024-2c52c0607404"
      },
      "source": [
        "#Dictionary allows you to store Key-Value pair( also known as maps, hashtables, associate array).\n",
        "\n",
        "#creating a telephone directory using dictionary.\n",
        "dict = {\"tom\": 802131874345, \"rob\": 248972376235, \"joe\": 236482043845}\n",
        "#Printing a dictionary.\n",
        "print(\"Printing a dictionary.\")\n",
        "print(dict)\n",
        "#Print value using the key.\n",
        "print('\\n')\n",
        "print(\"Print value using the key.\")\n",
        "print(\"Key: Tom, Value:\", dict[\"tom\"])\n",
        "#Adding a new element in the dictionary.\n",
        "print('\\n')\n",
        "print(\"Adding a new element in the dictionary.\")\n",
        "dict[\"sam\"]= 63299085726\n",
        "print(dict)\n",
        "#Deleting an element.\n",
        "print('\\n')\n",
        "print(\"Deleting an element.\")\n",
        "del dict[\"sam\"]\n",
        "print(dict)\n",
        "#Print all the directory values.\n",
        "print('\\n')\n",
        "print(\"Print all the directory values.\")\n",
        "for key in dict:\n",
        "   print(\"Key:\", key + \", Value:\", dict[key])\n",
        "#Print all the directory values using a tuple.\n",
        "print('\\n')\n",
        "print(\"Print all the directory values using a tuple.\")\n",
        "for key, value in dict.items():\n",
        "   print(\"Key:\", key + \", Value:\", value)\n",
        "#To check if the  dictionary contains a key.\n",
        "print('\\n')\n",
        "print(\"To check if the  dictionary contains a key.\")\n",
        "print(\"Key 'Tom' present in the dict: \",  \"tom\" in dict)\n",
        "#To empty the directory using clear().\n",
        "print('\\n')\n",
        "print(\"To empty the directory using clear().\")\n",
        "dict.clear()\n",
        "print(dict)\n",
        "\n",
        "\n",
        "\n",
        "\n"
      ],
      "execution_count": null,
      "outputs": [
        {
          "output_type": "stream",
          "name": "stdout",
          "text": [
            "Printing a dictionary.\n",
            "{'tom': 802131874345, 'rob': 248972376235, 'joe': 236482043845}\n",
            "\n",
            "\n",
            "Print value using the key.\n",
            "Key: Tom, Value: 802131874345\n",
            "\n",
            "\n",
            "Adding a new element in the dictionary.\n",
            "{'tom': 802131874345, 'rob': 248972376235, 'joe': 236482043845, 'sam': 63299085726}\n",
            "\n",
            "\n",
            "Deleting an element.\n",
            "{'tom': 802131874345, 'rob': 248972376235, 'joe': 236482043845}\n",
            "\n",
            "\n",
            "Print all the directory values.\n",
            "Key: tom, Value: 802131874345\n",
            "Key: rob, Value: 248972376235\n",
            "Key: joe, Value: 236482043845\n",
            "\n",
            "\n",
            "Print all the directory values using a tuple.\n",
            "Key: tom, Value: 802131874345\n",
            "Key: rob, Value: 248972376235\n",
            "Key: joe, Value: 236482043845\n",
            "\n",
            "\n",
            "To check if the  dictionary contains a key.\n",
            "Key 'Tom' present in the dict:  True\n",
            "\n",
            "\n",
            "To empty the directory using clear().\n",
            "{}\n"
          ]
        }
      ]
    },
    {
      "cell_type": "markdown",
      "metadata": {
        "id": "3HMrQm7ru24w"
      },
      "source": [
        "Tuples"
      ]
    },
    {
      "cell_type": "code",
      "metadata": {
        "id": "LbrtV3gYu4aq"
      },
      "source": [
        "#Tuples are list of values grouped together.\n",
        "#Tuples are immutable.\n",
        "#Hetrogenous compenents can be added."
      ],
      "execution_count": null,
      "outputs": []
    },
    {
      "cell_type": "markdown",
      "metadata": {
        "id": "1svX_3pUWW6Y"
      },
      "source": [
        "Module"
      ]
    },
    {
      "cell_type": "code",
      "metadata": {
        "colab": {
          "base_uri": "https://localhost:8080/"
        },
        "id": "eruVbRYjWaik",
        "outputId": "6439c6ac-e0a2-4d66-cc20-0957c516d68f"
      },
      "source": [
        "#Import math Module\n",
        "print(\"Working with math module.\")\n",
        "import math\n",
        "print(\"Square Root: \")\n",
        "print(math.sqrt(16))\n",
        "print(\"Exponential Power: \")\n",
        "print(math.pow(2,5))\n",
        "print(\"Dir Math: \")\n",
        "print(dir(math))\n",
        "print(\"Math Pi:\")\n",
        "print(math.pi)\n",
        "print(\"Math logarithm:\")\n",
        "print(math.log10(100))\n",
        "print(\"Using math Floor:\")\n",
        "print(math.floor(2.4))\n",
        "\n",
        "\n",
        "print(\"\\n\")\n",
        "#Import calender Module\n",
        "print(\"Working with Calender Module:\")\n",
        "import calendar\n",
        "print(\"Print Month Calendar:\")\n",
        "print(calendar.month(2016, 1))\n",
        "print(\"Check if year is leap:\")\n",
        "print(calendar.isleap(2022))\n",
        "print(\"Dir/All the functions of the calendar\")\n",
        "print(dir(calendar))"
      ],
      "execution_count": null,
      "outputs": [
        {
          "output_type": "stream",
          "name": "stdout",
          "text": [
            "Working with math module.\n",
            "Square Root: \n",
            "4.0\n",
            "Exponential Power: \n",
            "32.0\n",
            "Dir Math: \n",
            "['__doc__', '__loader__', '__name__', '__package__', '__spec__', 'acos', 'acosh', 'asin', 'asinh', 'atan', 'atan2', 'atanh', 'ceil', 'copysign', 'cos', 'cosh', 'degrees', 'e', 'erf', 'erfc', 'exp', 'expm1', 'fabs', 'factorial', 'floor', 'fmod', 'frexp', 'fsum', 'gamma', 'gcd', 'hypot', 'inf', 'isclose', 'isfinite', 'isinf', 'isnan', 'ldexp', 'lgamma', 'log', 'log10', 'log1p', 'log2', 'modf', 'nan', 'pi', 'pow', 'radians', 'remainder', 'sin', 'sinh', 'sqrt', 'tan', 'tanh', 'tau', 'trunc']\n",
            "Math Pi:\n",
            "3.141592653589793\n",
            "Math logarithm:\n",
            "2.0\n",
            "Using math Floor:\n",
            "2\n",
            "\n",
            "\n",
            "Working with Calender Module:\n",
            "Print Month Calendar:\n",
            "    January 2016\n",
            "Mo Tu We Th Fr Sa Su\n",
            "             1  2  3\n",
            " 4  5  6  7  8  9 10\n",
            "11 12 13 14 15 16 17\n",
            "18 19 20 21 22 23 24\n",
            "25 26 27 28 29 30 31\n",
            "\n",
            "Check if year is leap:\n",
            "False\n",
            "Dir/All the functions of the calendar\n",
            "['Calendar', 'EPOCH', 'FRIDAY', 'February', 'HTMLCalendar', 'IllegalMonthError', 'IllegalWeekdayError', 'January', 'LocaleHTMLCalendar', 'LocaleTextCalendar', 'MONDAY', 'SATURDAY', 'SUNDAY', 'THURSDAY', 'TUESDAY', 'TextCalendar', 'WEDNESDAY', '_EPOCH_ORD', '__all__', '__builtins__', '__cached__', '__doc__', '__file__', '__loader__', '__name__', '__package__', '__spec__', '_colwidth', '_locale', '_localized_day', '_localized_month', '_spacing', 'c', 'calendar', 'datetime', 'day_abbr', 'day_name', 'different_locale', 'error', 'firstweekday', 'format', 'formatstring', 'isleap', 'leapdays', 'main', 'mdays', 'month', 'month_abbr', 'month_name', 'monthcalendar', 'monthlen', 'monthrange', 'nextmonth', 'prcal', 'prevmonth', 'prmonth', 'prweek', 'repeat', 'setfirstweekday', 'sys', 'timegm', 'week', 'weekday', 'weekheader']\n"
          ]
        }
      ]
    },
    {
      "cell_type": "markdown",
      "metadata": {
        "id": "ezRP9rTbctje"
      },
      "source": [
        "Working with Json Object"
      ]
    },
    {
      "cell_type": "code",
      "metadata": {
        "colab": {
          "base_uri": "https://localhost:8080/"
        },
        "id": "-qKYbAdzcx1v",
        "outputId": "a89eaafc-18a3-43cd-9f8c-061160ac7ef2"
      },
      "source": [
        "Book = {}\n",
        "Book[\"Tom\"] = {\n",
        "    'name': 'Rob',\n",
        "    'address':'1 red street, NY',\n",
        "    'phone': 2587204298652\n",
        "\n",
        "}\n",
        "Book[\"Rob\"] = {\n",
        "    'name': 'Rob',\n",
        "    'address':'2 red street, NY',\n",
        "    'phone': 2587204298579\n",
        "\n",
        "}\n",
        "\n",
        "#Import json module.\n",
        "import json\n",
        "#Add the json object to the json module using \"json.dumps()\".\n",
        "print(json.dumps(Book))\n"
      ],
      "execution_count": null,
      "outputs": [
        {
          "output_type": "stream",
          "name": "stdout",
          "text": [
            "{\"Tom\": {\"name\": \"Rob\", \"address\": \"1 red street, NY\", \"phone\": 2587204298652}, \"Rob\": {\"name\": \"Rob\", \"address\": \"2 red street, NY\", \"phone\": 2587204298579}}\n"
          ]
        }
      ]
    },
    {
      "cell_type": "markdown",
      "metadata": {
        "id": "owU9Z7uNiiuk"
      },
      "source": [
        "Exception Handling"
      ]
    },
    {
      "cell_type": "code",
      "metadata": {
        "colab": {
          "base_uri": "https://localhost:8080/"
        },
        "id": "NXOhtkN5dbzL",
        "outputId": "b88c0487-297f-40ef-e3ab-31119331fad4"
      },
      "source": [
        "#Exceptions are errors that occur while executing a program.\n",
        "#Handling Exception\n",
        "#1. Zero division error\n",
        "#2. Convert int to string error\n",
        "#Exception Handling using Try-Except\n",
        "x= input(\"Enter Number 1:\")\n",
        "y= input(\"Enter Number 2:\")\n",
        "try:\n",
        "   z= int(x)/ int(y)\n",
        "except Exception as e:\n",
        "    print(\"Exception ocurred: \", e)\n",
        "    z=None \n",
        "print(\"Division is:\", z)\n",
        "\n",
        "#Zero Divison Error\n",
        "print(\"Zero Division Error:\")\n",
        "x= input(\"Enter Number 1:\")\n",
        "y= input(\"Enter Number 2:\")\n",
        "try:\n",
        "   z= int(x)/ int(y)\n",
        "except ZeroDivisionError as e:\n",
        "    print(\"Division by zero exception:\")\n",
        "    z=None \n",
        "except exception as e:\n",
        "  print(\"Exceprtion Type:\", type(e).__name__)\n",
        "print(\"Division is:\", z)\n",
        "\n",
        "\n",
        "\n"
      ],
      "execution_count": null,
      "outputs": [
        {
          "output_type": "stream",
          "name": "stdout",
          "text": [
            "Enter Number 1:3\n",
            "Enter Number 2:5\n",
            "Division is: 0.6\n",
            "Zero Division Error:\n",
            "Enter Number 1:2\n",
            "Enter Number 2:0\n",
            "Division by zero exception:\n",
            "Division is: None\n"
          ]
        }
      ]
    },
    {
      "cell_type": "markdown",
      "metadata": {
        "id": "IKBcPx6X4wKb"
      },
      "source": [
        "Classes and Object"
      ]
    },
    {
      "cell_type": "code",
      "metadata": {
        "colab": {
          "base_uri": "https://localhost:8080/"
        },
        "id": "km25zG005Bnx",
        "outputId": "e7ef53da-e9a7-447f-a3d6-99e5caa029cd"
      },
      "source": [
        "#Class Example using keyword \"Class\"\n",
        "class Human:\n",
        "# constructor \n",
        "     def __init__(self, name, occupation):\n",
        "      #  Self means the class itself\n",
        "      self.name= name\n",
        "      self.occupation = occupation\n",
        "     \n",
        "    #  Methods \n",
        "     def do_work(self):\n",
        "        if self.occupation == \"tennis player\":\n",
        "          print(self.name, \"plays tennis\")\n",
        "        elif self.occupation == \"actor\":\n",
        "          print(self.name, \"Shoots a film\")\n",
        "     def speaks(self):\n",
        "       print(self.name, \"Says how are you?\")\n",
        "\n",
        "tom = Human(\"tom cruise\", \"actor\")\n",
        "tom.do_work()\n",
        "tom.speaks()\n",
        "\n",
        "maria = Human(\"maria sarapova\", \"tennis player\")\n",
        "maria.do_work()\n",
        "maria.speaks()"
      ],
      "execution_count": null,
      "outputs": [
        {
          "output_type": "stream",
          "name": "stdout",
          "text": [
            "tom cruise Shoots a film\n",
            "tom cruise Says how are you?\n",
            "maria sarapova plays tennis\n",
            "maria sarapova Says how are you?\n"
          ]
        }
      ]
    },
    {
      "cell_type": "code",
      "metadata": {
        "id": "bSrBOGhh7Lou"
      },
      "source": [
        ""
      ],
      "execution_count": null,
      "outputs": []
    }
  ]
}